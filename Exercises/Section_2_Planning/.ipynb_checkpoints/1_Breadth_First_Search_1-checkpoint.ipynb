{
 "cells": [
  {
   "cell_type": "code",
   "execution_count": 1,
   "metadata": {},
   "outputs": [],
   "source": [
    "import numpy as np\n",
    "\n",
    "# Within this numpy array, zeros represent the free space and ones represent obstacles\n",
    "grid = np.array([\n",
    "    [0, 0, 0, 0, 0],\n",
    "    [0, 0, 1, 0, 0],\n",
    "    [0, 0, 0, 0, 0]\n",
    "])"
   ]
  },
  {
   "cell_type": "markdown",
   "metadata": {},
   "source": [
    "# Python data structures for search\n",
    "\n",
    "The search process involves keeping track of things like all your partial plans and positions visited so far. Python features a number of data structures that you could use for keeping track of actions, partial plans and visited locations, but not all data structures are created equal! Depending on your use case, different structures will perform more or less efficiently.\n",
    "\n",
    "In this exercise, you'll keep track of which cells you can expand into, your visited list and all your partial plans using a combination of a Python queue, a set and a dictionary. The way this will work is that you'll keep track of all the cells that are possible to expand into within the queue, all the cells you've already visited in the set, and how you moved through the grid (your partial plans) in the dictionary."
   ]
  },
  {
   "cell_type": "code",
   "execution_count": 2,
   "metadata": {},
   "outputs": [],
   "source": [
    "# The first step in the process is then to initialize a Queue() object and add the start location to it:\n",
    "from queue import Queue\n",
    "start = (1, 0) # Location in (i, j) of the start location in the image above\n",
    "q = Queue()\n",
    "q.put(start)"
   ]
  },
  {
   "cell_type": "code",
   "execution_count": 3,
   "metadata": {},
   "outputs": [
    {
     "name": "stdout",
     "output_type": "stream",
     "text": [
      "{(1, 0)}\n"
     ]
    }
   ],
   "source": [
    "# Next, initialize a set() object for your visited list and add the start location to it.\n",
    "\n",
    "visited = set()\n",
    "visited.add(start)\n",
    "print(visited)"
   ]
  },
  {
   "cell_type": "code",
   "execution_count": 4,
   "metadata": {},
   "outputs": [],
   "source": [
    "#Then define an empty dictionary, where you'll record how you moved through the grid\n",
    "#and a goal location, which in this example is (1, 4).\n",
    "\n",
    "branch = {}\n",
    "goal = (1, 4)"
   ]
  },
  {
   "cell_type": "code",
   "execution_count": 5,
   "metadata": {},
   "outputs": [],
   "source": [
    "# Next, you'll explore which actions are valid given your current position in the grid. \n",
    "# In the first project, you used the Enum class to keep track of the state of your vehicle \n",
    "# and here we'll use it to keep track of the action set like this:\n",
    "\n",
    "from enum import Enum\n",
    "\n",
    "class Action(Enum): \n",
    "    LEFT = (0, -1)\n",
    "    RIGHT = (0, 1)\n",
    "    UP = (-1, 0)\n",
    "    DOWN = (1, 0)\n",
    "\n",
    "    def __str__(self):\n",
    "        if self == self.LEFT:\n",
    "            return '<'\n",
    "        elif self == self.RIGHT:\n",
    "            return '>'\n",
    "        elif self == self.UP:\n",
    "            return '^'\n",
    "        elif self == self.DOWN:\n",
    "            return 'v'"
   ]
  },
  {
   "cell_type": "markdown",
   "metadata": {},
   "source": [
    "Here we've defined each action as a tuple containing the indices (i, j) corresponding to how that action moves you within the grid. We've also included a string representation for each action to be used later in visualizing the path. You could do something similar with a dictionary but using an Enum object is a nice clean way of keeping track of your actions and other associated properties like, in this case, a string representation of each action.\n",
    "\n",
    "So in the example case, valid actions are UP, DOWN and RIGHT, corresponding to movements of (-1, 0), (1, 0) and (0, 1), respectively. Or in code:"
   ]
  },
  {
   "cell_type": "code",
   "execution_count": 6,
   "metadata": {},
   "outputs": [],
   "source": [
    "valid = [Action.UP, Action.RIGHT, Action.DOWN]\n"
   ]
  },
  {
   "cell_type": "markdown",
   "metadata": {},
   "source": [
    "The next thing to do is expand using each of these actions:\n",
    "\n",
    "\n",
    "You'll find the grid locations of these new cells one at a time based on the original cell (start in this case) and the actions that took you to get there. You'll then step through and determine whether each new cell is already on your visited list. If so, ignore it, if not, add it to the queue and visited list, and record in your branch dictionary the cell you came from and action that took you there."
   ]
  },
  {
   "cell_type": "code",
   "execution_count": 7,
   "metadata": {},
   "outputs": [],
   "source": [
    "current_node = start\n",
    "\n",
    "while current_node != goal:\n",
    "\n",
    "    for action in valid:\n",
    "        # delta of performing the action\n",
    "        da = action.value\n",
    "        next_node = (current_node[0] + da[0], current_node[1] + da[1])\n",
    "\n",
    "        # Check if the new node has been visited before.\n",
    "        # If the node has not been visited you will need to\n",
    "        # 1. Mark it as visited\n",
    "        # 2. Add it to the queue\n",
    "        # 3. Add how you got there to branch\n",
    "\n",
    "        if next_node not in visited:\n",
    "            visited.add(next_node)\n",
    "            q.put(next_node)\n",
    "            branch[next_node] = (current_node, action)\n",
    "        current_node = next_node"
   ]
  },
  {
   "cell_type": "code",
   "execution_count": 8,
   "metadata": {},
   "outputs": [
    {
     "name": "stdout",
     "output_type": "stream",
     "text": [
      "deque([(1, 0), (0, 0), (0, 1), (1, 1), (0, 2), (1, 2), (0, 3), (1, 3), (0, 4), (1, 4)])\n",
      "{(0, 1), (1, 2), (0, 4), (0, 0), (1, 1), (0, 3), (1, 4), (0, 2), (1, 0), (1, 3)}\n",
      "{(0, 0): ((1, 0), <Action.UP: (-1, 0)>), (0, 1): ((0, 0), <Action.RIGHT: (0, 1)>), (1, 1): ((0, 1), <Action.DOWN: (1, 0)>), (0, 2): ((0, 1), <Action.RIGHT: (0, 1)>), (1, 2): ((0, 2), <Action.DOWN: (1, 0)>), (0, 3): ((0, 2), <Action.RIGHT: (0, 1)>), (1, 3): ((0, 3), <Action.DOWN: (1, 0)>), (0, 4): ((0, 3), <Action.RIGHT: (0, 1)>), (1, 4): ((0, 4), <Action.DOWN: (1, 0)>)}\n"
     ]
    }
   ],
   "source": [
    "print(q.queue)\n",
    "print(visited)\n",
    "print(branch)"
   ]
  },
  {
   "cell_type": "code",
   "execution_count": 9,
   "metadata": {},
   "outputs": [],
   "source": [
    "# Retrace your steps\n",
    "path = []\n",
    "n = goal\n",
    "# branch[n][0] for the first time means where you were just before you reached goal\n",
    "while branch[n][0] != start:\n",
    "    # Append each new node to the path as you work your way back\n",
    "    # action\n",
    "    path.append(branch[n][1])\n",
    "    # assigning n to previous state\n",
    "    n = branch[n][0]\n",
    "# One last time to append the start location\n",
    "path.append(branch[n][1])\n",
    "\n",
    "# And reverse the order to make it a path from start to goal\n",
    "path = path[::-1]"
   ]
  },
  {
   "cell_type": "code",
   "execution_count": 10,
   "metadata": {},
   "outputs": [
    {
     "data": {
      "text/plain": [
       "[<Action.UP: (-1, 0)>,\n",
       " <Action.RIGHT: (0, 1)>,\n",
       " <Action.RIGHT: (0, 1)>,\n",
       " <Action.RIGHT: (0, 1)>,\n",
       " <Action.RIGHT: (0, 1)>,\n",
       " <Action.DOWN: (1, 0)>]"
      ]
     },
     "execution_count": 10,
     "metadata": {},
     "output_type": "execute_result"
    }
   ],
   "source": [
    "path"
   ]
  },
  {
   "cell_type": "code",
   "execution_count": null,
   "metadata": {},
   "outputs": [],
   "source": []
  }
 ],
 "metadata": {
  "kernelspec": {
   "display_name": "Python 3",
   "language": "python",
   "name": "python3"
  },
  "language_info": {
   "codemirror_mode": {
    "name": "ipython",
    "version": 3
   },
   "file_extension": ".py",
   "mimetype": "text/x-python",
   "name": "python",
   "nbconvert_exporter": "python",
   "pygments_lexer": "ipython3",
   "version": "3.8.3"
  }
 },
 "nbformat": 4,
 "nbformat_minor": 4
}
