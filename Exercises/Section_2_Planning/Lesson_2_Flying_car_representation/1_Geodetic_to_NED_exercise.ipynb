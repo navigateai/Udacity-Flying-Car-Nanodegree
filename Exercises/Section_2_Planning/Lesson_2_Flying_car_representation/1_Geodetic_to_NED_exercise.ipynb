{
 "cells": [
  {
   "cell_type": "markdown",
   "id": "acoustic-penalty",
   "metadata": {},
   "source": [
    "### Geodetic to NED  \n"
   ]
  },
  {
   "cell_type": "code",
   "execution_count": 2,
   "id": "false-puppy",
   "metadata": {},
   "outputs": [],
   "source": [
    "# First import the utm and numpy packages\n",
    "import utm\n",
    "import numpy as np"
   ]
  },
  {
   "cell_type": "markdown",
   "id": "acting-federation",
   "metadata": {},
   "source": [
    "To convert a GPS position (longitude, latitude, altitude) to a local position (north, east, down) you need to define a global home position as the origin of your NED coordinate frame. In general this might be the position your vehicle is in when the motors are armed, or some other home base position. You first task is to define a function to convert from global position to a local position using the utm. To do this fill in the TODO's below!"
   ]
  },
  {
   "cell_type": "code",
   "execution_count": 6,
   "id": "thorough-smile",
   "metadata": {},
   "outputs": [],
   "source": [
    "def global_to_local(global_position, global_home):\n",
    "    \n",
    "    (east_home, north_home, _, _) = utm.from_latlon(global_home[1], global_home[0])\n",
    "    \n",
    "    (east, north, _, _) = utm.from_latlon(global_position[1], global_position[0])\n",
    "                                          \n",
    "    local_position = np.array([north - north_home, east - east_home, -(global_position[2] - global_home[2])])\n",
    "    \n",
    "    return local_position"
   ]
  },
  {
   "cell_type": "code",
   "execution_count": 7,
   "id": "provincial-blues",
   "metadata": {},
   "outputs": [],
   "source": [
    "def local_to_global(local_position, global_home):\n",
    "    (east_home, north_home, zone_number, zone_letter) = utm.from_latlon(\n",
    "                                                        global_home[1], global_home[0])\n",
    "    \n",
    "    (lat, lon) = utm.to_latlon(east_home + local_position[1],\n",
    "                               north_home + local_position[0], zone_number,\n",
    "                               zone_letter)\n",
    "                               \n",
    "    global_position = np.array([lon, lat, -(local_position[2]-global_home[2])])\n",
    "    \n",
    "    return global_position"
   ]
  },
  {
   "cell_type": "markdown",
   "id": "loaded-seminar",
   "metadata": {},
   "source": [
    "As an example, we will use two sets of global coordinates. One **```geodetic_home_coordinates```** serving as a local origin for NED frame and the second **```geodetic_current_coordinates```** which we will be expressed in NED coordinates relative to the first one. "
   ]
  },
  {
   "cell_type": "code",
   "execution_count": 9,
   "id": "committed-liquid",
   "metadata": {},
   "outputs": [
    {
     "name": "stdout",
     "output_type": "stream",
     "text": [
      "[-764.96 2571.59  -10.  ]\n"
     ]
    }
   ],
   "source": [
    "np.set_printoptions(precision=2)\n",
    "\n",
    "geodetic_current_coordinates = [-122.079465, 37.393037, 30]\n",
    "geodetic_home_coordinates = [-122.108432, 37.400154, 20]\n",
    "\n",
    "local_coordinates_NED = global_to_local(geodetic_current_coordinates, geodetic_home_coordinates)\n",
    "\n",
    "print(local_coordinates_NED)\n",
    "# Should print [ -764.96  2571.59   -10.  ]"
   ]
  },
  {
   "cell_type": "markdown",
   "id": "hourly-hunger",
   "metadata": {},
   "source": [
    "In this example, we will do the reverse transform by obtaining the global coordinated by knowing NED coordinates relative to the other global coordinates. "
   ]
  },
  {
   "cell_type": "code",
   "execution_count": 10,
   "id": "executive-lease",
   "metadata": {},
   "outputs": [
    {
     "name": "stdout",
     "output_type": "stream",
     "text": [
      "[-122.106982   37.40037    50.      ]\n"
     ]
    }
   ],
   "source": [
    "np.set_printoptions(precision=6)\n",
    "NED_coordinates =[25.21, 128.07, -30.]\n",
    "\n",
    "\n",
    "# convert back to global coordinates\n",
    "geodetic_current_coordinates = local_to_global(NED_coordinates, geodetic_home_coordinates)\n",
    "\n",
    "print(geodetic_current_coordinates)\n",
    "# Should print [-122.106982   37.40037    50.      ]"
   ]
  },
  {
   "cell_type": "code",
   "execution_count": null,
   "id": "connected-viking",
   "metadata": {},
   "outputs": [],
   "source": []
  }
 ],
 "metadata": {
  "kernelspec": {
   "display_name": "fcnd",
   "language": "python",
   "name": "fcnd"
  },
  "language_info": {
   "codemirror_mode": {
    "name": "ipython",
    "version": 3
   },
   "file_extension": ".py",
   "mimetype": "text/x-python",
   "name": "python",
   "nbconvert_exporter": "python",
   "pygments_lexer": "ipython3",
   "version": "3.6.3"
  }
 },
 "nbformat": 4,
 "nbformat_minor": 5
}
