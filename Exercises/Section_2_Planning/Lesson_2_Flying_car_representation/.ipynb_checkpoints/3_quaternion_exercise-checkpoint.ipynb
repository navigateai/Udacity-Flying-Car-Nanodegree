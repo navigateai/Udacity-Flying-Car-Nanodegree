{
 "cells": [
  {
   "cell_type": "markdown",
   "id": "limiting-energy",
   "metadata": {},
   "source": [
    "## Quaternions"
   ]
  },
  {
   "cell_type": "markdown",
   "id": "frozen-intensity",
   "metadata": {},
   "source": [
    "In the following exercise you'll implement functions to convert between Euler angles and quaternion representations. It's useful to be able to easily navigate back and forth between these representations because of their relative strengths. Quaternions are better for calculations, while Euler angles are far more intuitive.\n",
    "\n",
    "Some messages coming from your drone in simulation (or in the real world) will represent orientation data as a quaternion, while others use Euler angles. So it's a good idea to be able to seamlessly handle both. \n",
    "\n",
    "The [`udacidrone` API imlementation](https://github.com/udacity/udacidrone/blob/master/udacidrone/connection/message_types.py#L189-L284) that you're using for the projects in this program already has these conversions implemented under the hood so that's a great place to start if you aren't sure how to complete this exercise!"
   ]
  },
  {
   "cell_type": "code",
   "execution_count": 1,
   "id": "mechanical-capture",
   "metadata": {},
   "outputs": [],
   "source": [
    "import numpy as np\n",
    "\n",
    "def euler_to_quaternion(angles):\n",
    "    roll = angles[0]\n",
    "    pitch = angles[1]\n",
    "    yaw = angles[2]\n",
    "    \n",
    "    sp = np.sin(pitch / 2.0)\n",
    "    cp = np.cos(pitch / 2.0)\n",
    "    sr = np.sin(roll / 2.0)\n",
    "    cr = np.cos(roll / 2.0)\n",
    "    sy = np.sin(yaw / 2.0)\n",
    "    cy = np.cos(yaw / 2.0)\n",
    "\n",
    "    a = cr * cp * cy + sr * sp * sy\n",
    "    b = sr * cp * cy - cr * sp * sy\n",
    "    c = cr * sp * cy + sr * cp * sy\n",
    "    d = cr * cp * sy - sr * sp * cy\n",
    "    \n",
    "    return np.array([a, b, c, d])\n",
    "\n",
    "def quaternion_to_euler(quaternion):\n",
    "    a = quaternion[0]\n",
    "    b = quaternion[1]\n",
    "    c = quaternion[2]\n",
    "    d = quaternion[3]\n",
    "    \n",
    "    roll = np.arctan2(2.0 * (a * b + c * d), 1.0 - 2.0 * (b**2 + c**2))\n",
    "    pitch = np.arcsin(2.0 * (a * c - d * b))\n",
    "    yaw = np.arctan2(2.0 * (a * d + b * c), 1.0 - 2.0 * (c**2 + d**2))\n",
    "    \n",
    "    return np.array([roll, pitch, yaw])"
   ]
  },
  {
   "cell_type": "code",
   "execution_count": 2,
   "id": "latter-array",
   "metadata": {},
   "outputs": [
    {
     "name": "stdout",
     "output_type": "stream",
     "text": [
      "[ 0.6830127  0.6830127  0.1830127 -0.1830127]\n"
     ]
    }
   ],
   "source": [
    "euler = np.array([np.deg2rad(90), np.deg2rad(30), np.deg2rad(0)])\n",
    "\n",
    "q = euler_to_quaternion(euler) # should be [ 0.683  0.683  0.183 -0.183]\n",
    "print(q)\n",
    "\n",
    "assert np.allclose(euler, quaternion_to_euler(q))"
   ]
  },
  {
   "cell_type": "code",
   "execution_count": null,
   "id": "wireless-selection",
   "metadata": {},
   "outputs": [],
   "source": []
  }
 ],
 "metadata": {
  "kernelspec": {
   "display_name": "fcnd",
   "language": "python",
   "name": "fcnd"
  },
  "language_info": {
   "codemirror_mode": {
    "name": "ipython",
    "version": 3
   },
   "file_extension": ".py",
   "mimetype": "text/x-python",
   "name": "python",
   "nbconvert_exporter": "python",
   "pygments_lexer": "ipython3",
   "version": "3.6.3"
  }
 },
 "nbformat": 4,
 "nbformat_minor": 5
}
