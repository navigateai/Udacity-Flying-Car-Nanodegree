{
 "cells": [
  {
   "cell_type": "code",
   "execution_count": 1,
   "id": "rocky-valley",
   "metadata": {},
   "outputs": [],
   "source": [
    "import matplotlib.pyplot as plt\n",
    "from math import sqrt"
   ]
  },
  {
   "cell_type": "markdown",
   "id": "anticipated-taylor",
   "metadata": {},
   "source": [
    "The two probability mass functions below could give the probability of seeing a given number of satellites in the sky. \n",
    "\n",
    "Take a look at the raw numbers and try to answer the following questions:\n",
    "\n",
    "1. What's the expected value of each PMF?\n",
    "2. Which PMF will have a higher variance?"
   ]
  },
  {
   "cell_type": "code",
   "execution_count": 2,
   "id": "tropical-picture",
   "metadata": {},
   "outputs": [],
   "source": [
    "pmf_1 = [\n",
    "    (1, 0.1), # p(1 satellite) = 0.1\n",
    "    (2, 0.15),\n",
    "    (3, 0.25),\n",
    "    (4, 0.25),\n",
    "    (5, 0.15),\n",
    "    (6, 0.1)\n",
    "]\n",
    "\n",
    "pmf_2 = [\n",
    "    (3, 0.5),\n",
    "    (4, 0.5),\n",
    "]\n",
    "\n",
    "def expected_value(pmf):\n",
    "    ev = 0.0\n",
    "    for val, prob in pmf:\n",
    "        ev += val * prob\n",
    "    return ev"
   ]
  },
  {
   "cell_type": "code",
   "execution_count": 3,
   "id": "outdoor-equation",
   "metadata": {},
   "outputs": [
    {
     "name": "stdout",
     "output_type": "stream",
     "text": [
      "3.5\n",
      "3.5\n"
     ]
    }
   ],
   "source": [
    "print(expected_value(pmf_1))\n",
    "print(expected_value(pmf_2))"
   ]
  },
  {
   "cell_type": "code",
   "execution_count": 4,
   "id": "active-words",
   "metadata": {},
   "outputs": [],
   "source": [
    "def variance(pmf):\n",
    "    mean = expected_value(pmf)\n",
    "    var = 0.0\n",
    "    for val, prob in pmf:\n",
    "        var += (val-mean)**2 * prob\n",
    "    return var\n",
    "\n",
    "def standard_dev(pmf):\n",
    "    return sqrt(variance(pmf))"
   ]
  },
  {
   "cell_type": "code",
   "execution_count": 5,
   "id": "bulgarian-student",
   "metadata": {},
   "outputs": [
    {
     "name": "stdout",
     "output_type": "stream",
     "text": [
      "PMF 1 var: 2.05 std: 1.4317821063276353\n",
      "PMF 2 var: 0.25 std: 0.5\n"
     ]
    }
   ],
   "source": [
    "print(\"PMF 1 var:\", variance(pmf_1), \"std:\", standard_dev(pmf_1))\n",
    "print(\"PMF 2 var:\", variance(pmf_2), \"std:\", standard_dev(pmf_2))"
   ]
  },
  {
   "cell_type": "markdown",
   "id": "occasional-villa",
   "metadata": {},
   "source": [
    "As you may have guessed, both distributions have the **same** expected value but **different** variances and standard deviations. Intuitively, the first distribution is more spread out around the mean."
   ]
  },
  {
   "cell_type": "code",
   "execution_count": 6,
   "id": "internal-margin",
   "metadata": {},
   "outputs": [],
   "source": [
    "def plot_pmf(pmf):\n",
    "    labels = [outcome[0] for outcome in pmf ]\n",
    "    probs  = [outcome[1] for outcome in pmf ]\n",
    "    plt.bar(labels,probs)"
   ]
  },
  {
   "cell_type": "code",
   "execution_count": 7,
   "id": "favorite-content",
   "metadata": {},
   "outputs": [
    {
     "data": {
      "image/png": "[encoded data removed]",
      "text/plain": [
       "<Figure size 432x288 with 1 Axes>"
      ]
     },
     "metadata": {
      "needs_background": "light"
     },
     "output_type": "display_data"
    }
   ],
   "source": [
    "plot_pmf(pmf_2)\n",
    "plot_pmf(pmf_1)\n",
    "plt.ylabel('probability')\n",
    "plt.xlabel('number of satellites')\n",
    "plt.legend([\"PMF 2\", \"PMF 1\"])\n",
    "plt.show()"
   ]
  },
  {
   "cell_type": "code",
   "execution_count": null,
   "id": "sacred-focus",
   "metadata": {},
   "outputs": [],
   "source": []
  }
 ],
 "metadata": {
  "kernelspec": {
   "display_name": "fcnd",
   "language": "python",
   "name": "fcnd"
  },
  "language_info": {
   "codemirror_mode": {
    "name": "ipython",
    "version": 3
   },
   "file_extension": ".py",
   "mimetype": "text/x-python",
   "name": "python",
   "nbconvert_exporter": "python",
   "pygments_lexer": "ipython3",
   "version": "3.6.3"
  }
 },
 "nbformat": 4,
 "nbformat_minor": 5
}
